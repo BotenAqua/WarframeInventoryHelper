{
  "nbformat": 4,
  "nbformat_minor": 0,
  "metadata": {
    "colab": {
      "name": "WarframeInventoryHelper.ipynb",
      "provenance": [],
      "collapsed_sections": [],
      "include_colab_link": true
    },
    "kernelspec": {
      "name": "python3",
      "display_name": "Python 3"
    }
  },
  "cells": [
    {
      "cell_type": "markdown",
      "metadata": {
        "id": "view-in-github",
        "colab_type": "text"
      },
      "source": [
        "<a href=\"https://colab.research.google.com/github/BotenAqua/WarframeInventoryHelper/blob/master/WarframeInventoryHelper.ipynb\" target=\"_parent\"><img src=\"https://colab.research.google.com/assets/colab-badge.svg\" alt=\"Open In Colab\"/></a>"
      ]
    },
    {
      "cell_type": "code",
      "metadata": {
        "id": "eeyHou_Iz72w",
        "colab_type": "code",
        "outputId": "32929a17-6e47-4b14-c695-6840c3aaec37",
        "colab": {
          "base_uri": "https://localhost:8080/",
          "height": 51
        }
      },
      "source": [
        "def htmlTableExtractor(url):\n",
        "  #help/comment here\n",
        "  #error handling here\n",
        "  import requests\n",
        "  #404 error handling here\n",
        "  page = requests.get(url).text\n",
        "  page = restrExtractor(page, [\"<table\", \"</table>\"])[0]\n",
        "\n",
        "  if page.find(\"<th\") > 0: #if table header exists\n",
        "    tmp = restrExtractor(page, [\"<tr\", \"</tr>\"])\n",
        "    page = page[tmp[1]:]\n",
        "    header = []\n",
        "    tmp = tmp[0]\n",
        "    for colNo in range(tmp.find(\"<th\")+1):\n",
        "      name = restrExtractor(tmp, ['\">', '</th>'])\n",
        "      #print(name)\n",
        "      #header.append(name[0]) w razie problemów z innymi stronami to dziala\n",
        "      header.append(name[0][2:-6]) # to działa dla Warframe Wiki\n",
        "      tmp = tmp[name[1]:]\n",
        "    del tmp, name\n",
        "    #print(header) #header is working fine\n",
        "\n",
        "  tableContent = []\n",
        "  for rowNo in range(page.count(\"<tr\")):\n",
        "    #print(rowNo)\n",
        "    row = []\n",
        "    row.append(restrExtractor(page, [\"<tr\", \"</tr>\"]))\n",
        "    page = page[row[0][1]:]\n",
        "    row[0] = row[0][0]\n",
        "    for colNo in range(row[0].count(\"<td\")):\n",
        "      data = restrExtractor(row[0], [\"<td\", \"</td>\"])\n",
        "      row.append(data[0][4:-5]) # tu kroje <td> i </td> jakby cos sie zepsulo\n",
        "      row[0] = row[0][data[1]:]\n",
        "      #print(row)\n",
        "    row.pop(0)\n",
        "    tableContent.append(row)\n",
        "  return header, tableContent\n",
        "\n",
        "def restrExtractor(page, restr):\n",
        "  #help/comment here\n",
        "  do = page.find(restr[1])+len(restr[1])\n",
        "  return page[page.find(restr[0]):do], do\n",
        "\n",
        "def warframeWikiScrapper():\n",
        "  head, body = htmlTableExtractor(\"https://warframe.fandom.com/wiki/Void_Relic/ByRewards/SimpleTable\")\n",
        "  head.append(\"url\")\n",
        "  for l in range(len(body)):\n",
        "    #dodanie URL\n",
        "    adr = restrExtractor(body[l][0], [\"/\", \" t\"])\n",
        "    body[l].append(adr[0][:-3])\n",
        "    #czyszczenie nazwy\n",
        "    body[l][0] = restrExtractor(body[l][0], ['\">', '</'])[0][2:-2]\n",
        "    #czyszczenie reliktu\n",
        "    body[l][3] = restrExtractor(body[l][3], [\"<a\", \"</a>\"])[0]\n",
        "    body[l][3] = restrExtractor(body[l][3], ['\">', \"</\"])[0][2:-2] #jest sens zamykac w funkcje? :thinking:\n",
        "    #czyszczenie vaulted?\n",
        "    body[l][5] = body[l][5][:-1]\n",
        "  return head, body[-1]\n",
        "\n",
        "warframeWikiScrapper()"
      ],
      "execution_count": 77,
      "outputs": [
        {
          "output_type": "execute_result",
          "data": {
            "text/plain": [
              "(['Item', 'Part', 'Tier', 'Name', 'Rarity', 'Vaulted?', 'url'],\n",
              " ['Zhuge Prime', 'String', 'Axi', 'M1', 'Common', 'No', '/wiki/Zhuge_Prime'])"
            ]
          },
          "metadata": {
            "tags": []
          },
          "execution_count": 77
        }
      ]
    }
  ]
}