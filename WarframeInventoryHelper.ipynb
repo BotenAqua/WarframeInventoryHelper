{
  "nbformat": 4,
  "nbformat_minor": 0,
  "metadata": {
    "colab": {
      "name": "WarframeInventoryHelper.ipynb",
      "provenance": [],
      "collapsed_sections": [],
      "include_colab_link": true
    },
    "kernelspec": {
      "name": "python3",
      "display_name": "Python 3"
    }
  },
  "cells": [
    {
      "cell_type": "markdown",
      "metadata": {
        "id": "view-in-github",
        "colab_type": "text"
      },
      "source": [
        "<a href=\"https://colab.research.google.com/github/BotenAqua/WarframeInventoryHelper/blob/master/WarframeInventoryHelper.ipynb\" target=\"_parent\"><img src=\"https://colab.research.google.com/assets/colab-badge.svg\" alt=\"Open In Colab\"/></a>"
      ]
    },
    {
      "cell_type": "code",
      "metadata": {
        "id": "tYj4gfJnkE8f",
        "colab_type": "code",
        "colab": {}
      },
      "source": [
        "import requests"
      ],
      "execution_count": 0,
      "outputs": []
    },
    {
      "cell_type": "code",
      "metadata": {
        "id": "fRpo_xbpkUT1",
        "colab_type": "code",
        "outputId": "a8635b72-fce4-4238-839b-c08efd19fc6b",
        "colab": {
          "base_uri": "https://localhost:8080/",
          "height": 88
        }
      },
      "source": [
        "def pageTableExtractor(page, first_row_is_header = True):\n",
        "  try:\n",
        "    data = requests.get(page)\n",
        "  except NameError:\n",
        "    import requests\n",
        "    data = requests.get(page)\n",
        "  except ModuleNotFoundError:\n",
        "    print(\"Requests module not found! Aborting...\")\n",
        "    return\n",
        "  data = data.text\n",
        "  #print(data.find(\"<table\"), data.find(\"</table>\"))\n",
        "  data = data[data.find(\"<table\"):data.find(\"</table>\")]\n",
        "\n",
        "  if first_row_is_header:\n",
        "    header = []\n",
        "    cut = data.find(\"</tr>\")\n",
        "    row = data[data.find(\"<tr>\")+4:cut]\n",
        "    data = data[cut+5:]\n",
        "    del cut\n",
        "    for _ in range(row.count(\"</th>\")):\n",
        "      do = row[3:].find(\"<\")+2\n",
        "      #print(row, row.find(\">\")+1,do)\n",
        "      header.append(row[row.find(\">\")+1:do])\n",
        "      row = row[do+6:]\n",
        "    #print(header)\n",
        "    content = []\n",
        "    for _ in range(data.count(\"</tr>\")):\n",
        "      do = data.find(\"</tr>\")+5\n",
        "      #print(data.find(\"<tr\"),do)\n",
        "      content.append(data[data.find(\"<tr\"):do])\n",
        "      data = data[do:]\n",
        "    print(content[-1])\n",
        "    #oczyscic dane i zwrocic jako header + body\n",
        "\n",
        "  return\n",
        "\n",
        "pageTableExtractor(\"https://warframe.fandom.com/wiki/Void_Relic/ByRewards/SimpleTable\")\n"
      ],
      "execution_count": 70,
      "outputs": [
        {
          "output_type": "stream",
          "text": [
            "<tr>\n",
            "<td><a href=\"/wiki/Zhuge_Prime\" title=\"Zhuge Prime\">Zhuge Prime</a></td><td>String</td><td>Axi</td><td><span style=\"border-bottom: 1px dotted;\" class=\"relic-tooltip\" data-param=\"Axi M1\"><a href=\"/wiki/Axi_M1\" title=\"Axi M1\">M1</a></span></td><td>Common</td><td>No\n",
            "</td></tr>\n"
          ],
          "name": "stdout"
        }
      ]
    }
  ]
}