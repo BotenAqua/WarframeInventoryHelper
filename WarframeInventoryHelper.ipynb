{
  "nbformat": 4,
  "nbformat_minor": 0,
  "metadata": {
    "colab": {
      "name": "WarframeInventoryHelper",
      "provenance": [],
      "collapsed_sections": [],
      "include_colab_link": true
    },
    "kernelspec": {
      "name": "python3",
      "display_name": "Python 3"
    }
  },
  "cells": [
    {
      "cell_type": "markdown",
      "metadata": {
        "id": "view-in-github",
        "colab_type": "text"
      },
      "source": [
        "<a href=\"https://colab.research.google.com/github/BotenAqua/WarframeInventoryHelper/blob/master/WarframeInventoryHelper.ipynb\" target=\"_parent\"><img src=\"https://colab.research.google.com/assets/colab-badge.svg\" alt=\"Open In Colab\"/></a>"
      ]
    },
    {
      "cell_type": "code",
      "metadata": {
        "id": "2ZCR_8OUuQbw",
        "colab_type": "code",
        "colab": {}
      },
      "source": [
        "import requests as rq\n",
        "import pandas as pd"
      ],
      "execution_count": 0,
      "outputs": []
    },
    {
      "cell_type": "code",
      "metadata": {
        "id": "FRl6FPLvum4w",
        "colab_type": "code",
        "colab": {
          "base_uri": "https://localhost:8080/",
          "height": 1000
        },
        "outputId": "93ddd515-0f7f-4840-9548-925d8839eb1f"
      },
      "source": [
        "def wikiScrapper():\n",
        "  page = rq.get(\"https://warframe.fandom.com/wiki/Void_Relic/ByRewards/SimpleTable\")\n",
        "  return page.text\n",
        "\n",
        "def extractData(page):\n",
        "  page = page[page.find(\"<table\"):page.find(\"</table\")]\n",
        "  page = page[page.find('\">')+2:]\n",
        "\n",
        "  #colnames\n",
        "\n",
        "  h_end = page.find(\"</tr>\")\n",
        "  headersT = str(page[:h_end])\n",
        "  headers = [\"url\"]\n",
        "  for colname in range(headersT.count(\"col\")):\n",
        "    do = headersT.find(\"</th>\")\n",
        "    headers.append(headersT[headersT.find('\">')+2:do-1])\n",
        "    headersT = headersT[do+4:]\n",
        "  del headersT\n",
        "\n",
        "  #data\n",
        "\n",
        "  page = page[h_end+5:]\n",
        "  drop = []\n",
        "  #print(page)\n",
        "  ograniczenia = [['f=\"', '\" t'],['\">', '</a></td>'], [\"<td>\", \"</td>\"], [\"<td>\", \"</td>\"], ['param=\"', '\"><a'], [\"</span></td><td>\", \"</td></tr>\"]]\n",
        "  for _ in range(page.count(\"<td><a href=\")):\n",
        "    item = []\n",
        "    for el in ograniczenia:\n",
        "      do = page.find(el[1])\n",
        "      #print(page.find(el[0])+len(el[0]),do)\n",
        "      item.append(page[page.find(el[0])+len(el[0]):do])\n",
        "      page = page[do+len(el[1]):]\n",
        "    drop.append(item)\n",
        "    page = page[page.find(\"</tr>\")+5:]\n",
        "  for el in drop:\n",
        "    f = el[5].find(\"</td><td>\")\n",
        "    el.append(el[5][f+9:-1])\n",
        "    el[5] = el[5][:f]\n",
        "\n",
        "  #dataframe\n",
        "\n",
        "  data = pd.DataFrame(drop)\n",
        "  data.columns = headers\n",
        "  return data\n",
        "dane = wikiScrapper()\n",
        "dane = extractData(dane)\n",
        "print(dane)"
      ],
      "execution_count": 93,
      "outputs": [
        {
          "output_type": "stream",
          "text": [
            "                         url              Item  ...    Rarity Vaulted?\n",
            "0        /wiki/Akbolto_Prime     Akbolto Prime  ...  Uncommon       No\n",
            "1        /wiki/Akbolto_Prime     Akbolto Prime  ...  Uncommon      Yes\n",
            "2        /wiki/Akbolto_Prime     Akbolto Prime  ...    Common       No\n",
            "3        /wiki/Akbolto_Prime     Akbolto Prime  ...    Common      Yes\n",
            "4        /wiki/Akbolto_Prime     Akbolto Prime  ...  Uncommon       No\n",
            "5        /wiki/Akbolto_Prime     Akbolto Prime  ...  Uncommon      Yes\n",
            "6        /wiki/Akbolto_Prime     Akbolto Prime  ...  Uncommon      Yes\n",
            "7        /wiki/Akbolto_Prime     Akbolto Prime  ...      Rare       No\n",
            "8        /wiki/Akbolto_Prime     Akbolto Prime  ...      Rare      Yes\n",
            "9       /wiki/Akbronco_Prime    Akbronco Prime  ...    Common       No\n",
            "10      /wiki/Akbronco_Prime    Akbronco Prime  ...    Common      Yes\n",
            "11      /wiki/Akbronco_Prime    Akbronco Prime  ...    Common      Yes\n",
            "12      /wiki/Akbronco_Prime    Akbronco Prime  ...    Common      Yes\n",
            "13      /wiki/Akbronco_Prime    Akbronco Prime  ...    Common      Yes\n",
            "14      /wiki/Akbronco_Prime    Akbronco Prime  ...  Uncommon       No\n",
            "15      /wiki/Akbronco_Prime    Akbronco Prime  ...  Uncommon      Yes\n",
            "16      /wiki/Akbronco_Prime    Akbronco Prime  ...  Uncommon      Yes\n",
            "17      /wiki/Akbronco_Prime    Akbronco Prime  ...  Uncommon      Yes\n",
            "18      /wiki/Akjagara_Prime    Akjagara Prime  ...      Rare      Yes\n",
            "19      /wiki/Akjagara_Prime    Akjagara Prime  ...    Common       No\n",
            "20      /wiki/Akjagara_Prime    Akjagara Prime  ...  Uncommon       No\n",
            "21      /wiki/Akjagara_Prime    Akjagara Prime  ...  Uncommon       No\n",
            "22         /wiki/Aklex_Prime       Aklex Prime  ...  Uncommon       No\n",
            "23         /wiki/Aklex_Prime       Aklex Prime  ...      Rare       No\n",
            "24    /wiki/Akstiletto_Prime  Akstiletto Prime  ...  Uncommon      Yes\n",
            "25    /wiki/Akstiletto_Prime  Akstiletto Prime  ...  Uncommon      Yes\n",
            "26    /wiki/Akstiletto_Prime  Akstiletto Prime  ...      Rare      Yes\n",
            "27    /wiki/Akstiletto_Prime  Akstiletto Prime  ...  Uncommon      Yes\n",
            "28    /wiki/Akstiletto_Prime  Akstiletto Prime  ...  Uncommon      Yes\n",
            "29    /wiki/Akstiletto_Prime  Akstiletto Prime  ...  Uncommon      Yes\n",
            "...                      ...               ...  ...       ...      ...\n",
            "1314                                            ...                   \n",
            "1315                                            ...                   \n",
            "1316                                            ...                   \n",
            "1317                                            ...                   \n",
            "1318                                            ...                   \n",
            "1319                                            ...                   \n",
            "1320                                            ...                   \n",
            "1321                                            ...                   \n",
            "1322                                            ...                   \n",
            "1323                                            ...                   \n",
            "1324                                            ...                   \n",
            "1325                                            ...                   \n",
            "1326                                            ...                   \n",
            "1327                                            ...                   \n",
            "1328                                            ...                   \n",
            "1329                                            ...                   \n",
            "1330                                            ...                   \n",
            "1331                                            ...                   \n",
            "1332                                            ...                   \n",
            "1333                                            ...                   \n",
            "1334                                            ...                   \n",
            "1335                                            ...                   \n",
            "1336                                            ...                   \n",
            "1337                                            ...                   \n",
            "1338                                            ...                   \n",
            "1339                                            ...                   \n",
            "1340                                            ...                   \n",
            "1341                                            ...                   \n",
            "1342                                            ...                   \n",
            "1343                                            ...                   \n",
            "\n",
            "[1344 rows x 7 columns]\n"
          ],
          "name": "stdout"
        }
      ]
    }
  ]
}